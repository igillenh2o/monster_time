{
 "cells": [
  {
   "attachments": {},
   "cell_type": "markdown",
   "metadata": {},
   "source": [
    "#This is my monster manual breakdown"
   ]
  },
  {
   "cell_type": "code",
   "execution_count": 40,
   "metadata": {},
   "outputs": [],
   "source": [
    "import pandas as pd\n",
    "import matplotlib.pyplot as plt"
   ]
  },
  {
   "cell_type": "code",
   "execution_count": 41,
   "metadata": {},
   "outputs": [
    {
     "data": {
      "text/html": [
       "<div>\n",
       "<style scoped>\n",
       "    .dataframe tbody tr th:only-of-type {\n",
       "        vertical-align: middle;\n",
       "    }\n",
       "\n",
       "    .dataframe tbody tr th {\n",
       "        vertical-align: top;\n",
       "    }\n",
       "\n",
       "    .dataframe thead th {\n",
       "        text-align: right;\n",
       "    }\n",
       "</style>\n",
       "<table border=\"1\" class=\"dataframe\">\n",
       "  <thead>\n",
       "    <tr style=\"text-align: right;\">\n",
       "      <th></th>\n",
       "      <th>Name</th>\n",
       "      <th>Size</th>\n",
       "      <th>Race + alignment</th>\n",
       "      <th>HP</th>\n",
       "      <th>Armor</th>\n",
       "      <th>Speed</th>\n",
       "      <th>Challenge rating  (XP)</th>\n",
       "    </tr>\n",
       "  </thead>\n",
       "  <tbody>\n",
       "    <tr>\n",
       "      <th>0</th>\n",
       "      <td>Aboleth</td>\n",
       "      <td>Large</td>\n",
       "      <td>aberration, Lawful Evil</td>\n",
       "      <td>135 (18d10+36)</td>\n",
       "      <td>17 (Natural Armor)</td>\n",
       "      <td>10 ft., swim 40 ft.</td>\n",
       "      <td>10 (5,900 XP)</td>\n",
       "    </tr>\n",
       "  </tbody>\n",
       "</table>\n",
       "</div>"
      ],
      "text/plain": [
       "      Name   Size         Race + alignment              HP  \\\n",
       "0  Aboleth  Large  aberration, Lawful Evil  135 (18d10+36)   \n",
       "\n",
       "                Armor                Speed Challenge rating  (XP)  \n",
       "0  17 (Natural Armor)  10 ft., swim 40 ft.          10 (5,900 XP)  "
      ]
     },
     "execution_count": 41,
     "metadata": {},
     "output_type": "execute_result"
    }
   ],
   "source": [
    "full_file = pd.read_csv(\"Dd5e_monsters.csv\")\n",
    "\n",
    "full_file.head(1)\n",
    "\n",
    "# edited = full_file.loc.loc(full_file[\"Challenge rating  (XP)\"])\n",
    "# edited\n",
    "\n",
    "\n",
    "\n",
    "\n",
    "  \n"
   ]
  },
  {
   "cell_type": "code",
   "execution_count": 42,
   "metadata": {},
   "outputs": [
    {
     "data": {
      "text/plain": [
       "Size\n",
       "Gargantuan     15\n",
       "Huge           32\n",
       "Large         103\n",
       "Medium        128\n",
       "Small          22\n",
       "Tiny           24\n",
       "Name: Name, dtype: int64"
      ]
     },
     "execution_count": 42,
     "metadata": {},
     "output_type": "execute_result"
    }
   ],
   "source": [
    "grouped_by_size= full_file.groupby([\"Size\"])[\"Name\"].count()\n",
    "\n",
    "grouped_by_size\n"
   ]
  },
  {
   "attachments": {},
   "cell_type": "markdown",
   "metadata": {},
   "source": [
    "lets graph that!"
   ]
  },
  {
   "cell_type": "code",
   "execution_count": 43,
   "metadata": {},
   "outputs": [
    {
     "data": {
      "text/plain": [
       "<AxesSubplot: xlabel='Size'>"
      ]
     },
     "execution_count": 43,
     "metadata": {},
     "output_type": "execute_result"
    },
    {
     "data": {
      "image/png": "[encoded data removed]",
      "text/plain": [
       "<Figure size 640x480 with 1 Axes>"
      ]
     },
     "metadata": {},
     "output_type": "display_data"
    }
   ],
   "source": [
    "\n",
    "# plotting a bar graph\n",
    "grouped_by_size.plot(x=\"Size\", y=\"Name\", kind=\"bar\")\n"
   ]
  },
  {
   "attachments": {},
   "cell_type": "markdown",
   "metadata": {},
   "source": [
    "lets see how many challenge ratings exist"
   ]
  },
  {
   "cell_type": "code",
   "execution_count": 44,
   "metadata": {},
   "outputs": [
    {
     "data": {
      "text/plain": [
       "['0 (10 XP)',\n",
       " '1 (200 XP)',\n",
       " '1/2 (100 XP)',\n",
       " '1/4 (50 XP)',\n",
       " '1/8 (25 XP)',\n",
       " '10 (5,900 XP)',\n",
       " '11 (7,200 XP)',\n",
       " '12 (8,400 XP)',\n",
       " '13 (10,000 XP)',\n",
       " '14 (11,500 XP)',\n",
       " '15 (13,000 XP)',\n",
       " '16 (15,000 XP)',\n",
       " '17 (18,000 XP)',\n",
       " '19 (22,000 XP)',\n",
       " '2 (450 XP)',\n",
       " '20 (25,000 XP)',\n",
       " '21 (33,000 XP)',\n",
       " '22 (41,000 XP)',\n",
       " '23 (50,000 XP)',\n",
       " '24 (62,000 XP)',\n",
       " '3 (700 XP)',\n",
       " '30 (155,000 XP)',\n",
       " '4 (1,100 XP)',\n",
       " '5 (1,800 XP)',\n",
       " '6 (2,300 XP)',\n",
       " '7 (2,900 XP)',\n",
       " '8 (3,900 XP)',\n",
       " '9 (5,000 XP)']"
      ]
     },
     "execution_count": 44,
     "metadata": {},
     "output_type": "execute_result"
    }
   ],
   "source": [
    "unique_cr = list(full_file[\"Challenge rating  (XP)\"].unique())\n",
    "unique_cr.sort()\n",
    "unique_cr"
   ]
  },
  {
   "cell_type": "code",
   "execution_count": 45,
   "metadata": {},
   "outputs": [
    {
     "data": {
      "text/plain": [
       "Race + alignment                                 Challenge rating  (XP)\n",
       "fiend (devil), Lawful Evil                       9 (5,000 XP)               1\n",
       "giant, Lawful Evil                               9 (5,000 XP)               1\n",
       "giant, Neutral                                   7 (2,900 XP)               1\n",
       "giant, Neutral Evil                              8 (3,900 XP)               1\n",
       "giant, Neutral Good (50%) Or Neutral Evil (50%)  9 (5,000 XP)               1\n",
       "                                                                           ..\n",
       "beast, Unaligned                                 1/2 (100 XP)               8\n",
       "                                                 1 (200 XP)                 8\n",
       "                                                 1/8 (25 XP)               12\n",
       "                                                 1/4 (50 XP)               15\n",
       "                                                 0 (10 XP)                 24\n",
       "Name: Name, Length: 218, dtype: int64"
      ]
     },
     "execution_count": 45,
     "metadata": {},
     "output_type": "execute_result"
    }
   ],
   "source": [
    "grouped_by_race_and_cr = full_file.groupby([\"Race + alignment\",\"Challenge rating  (XP)\"])[\"Name\"].count()\n",
    "\n",
    "grouped_by_race_and_cr.sort_values()\n",
    "#.sort_values(\"Race + alignment\",\"Challenge rating  (XP)\")"
   ]
  },
  {
   "attachments": {},
   "cell_type": "markdown",
   "metadata": {},
   "source": [
    "lets just look at the giants"
   ]
  },
  {
   "cell_type": "code",
   "execution_count": 46,
   "metadata": {},
   "outputs": [
    {
     "data": {
      "text/plain": [
       "Race + alignment                    Challenge rating  (XP)\n",
       "Fiend (Shapechanger), Neutral Evil  4 (1,100 XP)              2\n",
       "aberration, Chaotic Evil            4 (1,100 XP)              1\n",
       "aberration, Chaotic Neutral         8 (3,900 XP)              1\n",
       "aberration, Lawful Evil             10 (5,900 XP)             1\n",
       "aberration, Neutral                 2 (450 XP)                1\n",
       "                                                             ..\n",
       "undead, Lawful Evil                 3 (700 XP)                1\n",
       "undead, Neutral Evil                1/4 (50 XP)               1\n",
       "                                    2 (450 XP)                1\n",
       "                                    3 (700 XP)                1\n",
       "                                    5 (1,800 XP)              2\n",
       "Name: Name, Length: 218, dtype: int64"
      ]
     },
     "execution_count": 46,
     "metadata": {},
     "output_type": "execute_result"
    }
   ],
   "source": [
    "grouped_by_race_and_cr"
   ]
  },
  {
   "cell_type": "markdown",
   "metadata": {},
   "source": []
  }
 ],
 "metadata": {
  "kernelspec": {
   "display_name": "Python 3",
   "language": "python",
   "name": "python3"
  },
  "language_info": {
   "codemirror_mode": {
    "name": "ipython",
    "version": 3
   },
   "file_extension": ".py",
   "mimetype": "text/x-python",
   "name": "python",
   "nbconvert_exporter": "python",
   "pygments_lexer": "ipython3",
   "version": "3.9.6"
  },
  "orig_nbformat": 4,
  "vscode": {
   "interpreter": {
    "hash": "31f2aee4e71d21fbe5cf8b01ff0e069b9275f58929596ceb00d14d90e3e16cd6"
   }
  }
 },
 "nbformat": 4,
 "nbformat_minor": 2
}
